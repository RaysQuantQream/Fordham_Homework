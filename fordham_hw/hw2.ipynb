{
 "cells": [
  {
   "cell_type": "code",
   "execution_count": 1,
   "id": "f0751499",
   "metadata": {},
   "outputs": [],
   "source": [
    "import pandas as pd\n",
    "import numpy as np\n",
    "import math"
   ]
  },
  {
   "cell_type": "code",
   "execution_count": 2,
   "id": "0e9e22e5",
   "metadata": {},
   "outputs": [
    {
     "name": "stdout",
     "output_type": "stream",
     "text": [
      "There are 20 coupon paymentsduring the lifetime of this Treasury Note\n"
     ]
    }
   ],
   "source": [
    "# A.1\n",
    "print(\"There are %d coupon paymentsduring the lifetime of this Treasury Note\" % ((2015-2005) * 2))"
   ]
  },
  {
   "cell_type": "code",
   "execution_count": 3,
   "id": "038b15c0",
   "metadata": {},
   "outputs": [
    {
     "name": "stdout",
     "output_type": "stream",
     "text": [
      "The present value is 991.960690\n"
     ]
    }
   ],
   "source": [
    "# A.2\n",
    "pv = 1000 / ((1 + (0.0435 / 2)) ** 20)\n",
    "for i in range(1, 21):\n",
    "    pv += (1000 * 0.0425 / 2) / (((1 + 0.0435 / 2)) ** i)\n",
    "print(\"The present value is %f\" % pv)"
   ]
  },
  {
   "cell_type": "code",
   "execution_count": 4,
   "id": "d2285d44",
   "metadata": {},
   "outputs": [],
   "source": [
    "# A.2 - present value but using continus discount rate\n",
    "# d = 0\n",
    "# for i in range(1,21):\n",
    "#     d += math.exp(-0.0435 * i) * (1000 * 0.0425)\n",
    "# pv = 1000 * (math.exp(-0.0435 * 20)) + d\n",
    "# The present value is 974.384800 using continus discount rate"
   ]
  },
  {
   "cell_type": "code",
   "execution_count": 5,
   "id": "afd62daf",
   "metadata": {},
   "outputs": [],
   "source": [
    "# B.1\n",
    "df = pd.read_csv(\"./IndustrialStocksFundamentals.csv\")"
   ]
  },
  {
   "cell_type": "code",
   "execution_count": 6,
   "id": "62b44382",
   "metadata": {},
   "outputs": [],
   "source": [
    "# B.2\n",
    "df.ForwardAnnualDivYield = df.ForwardAnnualDivYield.str.strip('%').astype('float') / 100\n",
    "df.TrailingAnnualDivYield = df.TrailingAnnualDivYield.str.strip('%').astype('float') / 100"
   ]
  },
  {
   "cell_type": "code",
   "execution_count": 7,
   "id": "916e49b9",
   "metadata": {},
   "outputs": [
    {
     "name": "stdout",
     "output_type": "stream",
     "text": [
      "average of forward P/E is: 19.652000\n",
      "average of forward ForwardAnnualDivYield is: 0.018350\n",
      "average of forward TrailingAnnualDivYield is: 0.017630\n"
     ]
    }
   ],
   "source": [
    "print(\"average of forward P/E is: %f\" % df['Forward P/E'].mean())\n",
    "print(\"average of forward ForwardAnnualDivYield is: %f\" % df['ForwardAnnualDivYield'].mean())\n",
    "print(\"average of forward TrailingAnnualDivYield is: %f\" % df['TrailingAnnualDivYield'].mean())"
   ]
  },
  {
   "cell_type": "code",
   "execution_count": 8,
   "id": "1387aaa9",
   "metadata": {},
   "outputs": [],
   "source": [
    "# B.3\n",
    "cheapest_PE = df.sort_values(\"Forward P/E\", ascending=True).head(1).IssuerName.iloc[0]\n",
    "cheapest_FADY = df.sort_values(\"ForwardAnnualDivYield\", ascending=True).tail(1).IssuerName.iloc[0]\n",
    "cheapest_TADY = df.sort_values(\"TrailingAnnualDivYield\", ascending=True).tail(1).IssuerName.iloc[0]"
   ]
  },
  {
   "cell_type": "code",
   "execution_count": 9,
   "id": "729ac016",
   "metadata": {},
   "outputs": [
    {
     "name": "stdout",
     "output_type": "stream",
     "text": [
      "Lockheed Martin Co. is the cheapest in Forward P/E\n",
      "3M Co. is the cheapest in ForwardAnnualDivYield\n",
      "3M Co. is the cheapest in TrailingAnnualDivYield\n"
     ]
    }
   ],
   "source": [
    "print(\"%s is the cheapest in Forward P/E\" % cheapest_PE)\n",
    "print(\"%s is the cheapest in ForwardAnnualDivYield\" % cheapest_FADY)\n",
    "print(\"%s is the cheapest in TrailingAnnualDivYield\" % cheapest_TADY)"
   ]
  }
 ],
 "metadata": {
  "kernelspec": {
   "display_name": "Python 3 (ipykernel)",
   "language": "python",
   "name": "python3"
  },
  "language_info": {
   "codemirror_mode": {
    "name": "ipython",
    "version": 3
   },
   "file_extension": ".py",
   "mimetype": "text/x-python",
   "name": "python",
   "nbconvert_exporter": "python",
   "pygments_lexer": "ipython3",
   "version": "3.10.4"
  }
 },
 "nbformat": 4,
 "nbformat_minor": 5
}
