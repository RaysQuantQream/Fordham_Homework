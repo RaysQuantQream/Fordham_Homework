{
 "cells": [
  {
   "cell_type": "code",
   "execution_count": 69,
   "id": "37bd9e66",
   "metadata": {},
   "outputs": [],
   "source": [
    "import numpy as np\n",
    "import pandas as pd\n",
    "import datetime\n",
    "from dateutil import rrule\n",
    "import numpy_financial as npf"
   ]
  },
  {
   "cell_type": "code",
   "execution_count": 70,
   "id": "899764f7",
   "metadata": {},
   "outputs": [
    {
     "data": {
      "text/plain": [
       "20.0"
      ]
     },
     "execution_count": 70,
     "metadata": {},
     "output_type": "execute_result"
    }
   ],
   "source": [
    "issue_date = datetime.datetime(2005,8,15)\n",
    "maturity_date = datetime.datetime(2015,8,15)\n",
    "months = rrule.rrule(rrule.MONTHLY, dtstart=issue_date, until=maturity_date).count()-1\n",
    "coupon_payments_period = months/12*2\n",
    "coupon_payments_period"
   ]
  },
  {
   "cell_type": "code",
   "execution_count": 71,
   "id": "75a571d6",
   "metadata": {},
   "outputs": [
    {
     "data": {
      "text/plain": [
       "991.9606895430287"
      ]
     },
     "execution_count": 71,
     "metadata": {},
     "output_type": "execute_result"
    }
   ],
   "source": [
    "fv = 1000\n",
    "coupon_rate = 0.02125\n",
    "interest_rate = 0.02175\n",
    "payment = fv*coupon_rate\n",
    "pv = abs(npf.pv(interest_rate,coupon_payments_period,payment,fv))\n",
    "pv"
   ]
  },
  {
   "cell_type": "code",
   "execution_count": 72,
   "id": "a797c35b",
   "metadata": {},
   "outputs": [],
   "source": [
    "# m = 2\n",
    "# t = 10\n",
    "# ytm = 0.02175\n",
    "# fv = 1000\n",
    "# c = 0.02125\n",
    "# bond_value = ((fv*c/m*(1-(1+ytm/m)**(-m*t)))/(ytm/m)) + fv*(1+(ytm/m))**(-m*t)\n",
    "# bond_value"
   ]
  },
  {
   "cell_type": "code",
   "execution_count": 73,
   "id": "4b1cafb5",
   "metadata": {},
   "outputs": [
    {
     "name": "stdout",
     "output_type": "stream",
     "text": [
      "Requirement already satisfied: numpy-financial in /Users/yanggongchi/.conda/envs/quant/lib/python3.10/site-packages (1.0.0)\n",
      "Requirement already satisfied: numpy>=1.15 in /Users/yanggongchi/.conda/envs/quant/lib/python3.10/site-packages (from numpy-financial) (1.23.2)\n",
      "Note: you may need to restart the kernel to use updated packages.\n"
     ]
    }
   ],
   "source": [
    "pip install numpy-financial"
   ]
  },
  {
   "cell_type": "code",
   "execution_count": 74,
   "id": "70f059d1",
   "metadata": {},
   "outputs": [
    {
     "data": {
      "text/html": [
       "<div>\n",
       "<style scoped>\n",
       "    .dataframe tbody tr th:only-of-type {\n",
       "        vertical-align: middle;\n",
       "    }\n",
       "\n",
       "    .dataframe tbody tr th {\n",
       "        vertical-align: top;\n",
       "    }\n",
       "\n",
       "    .dataframe thead th {\n",
       "        text-align: right;\n",
       "    }\n",
       "</style>\n",
       "<table border=\"1\" class=\"dataframe\">\n",
       "  <thead>\n",
       "    <tr style=\"text-align: right;\">\n",
       "      <th></th>\n",
       "      <th>IssuerName</th>\n",
       "      <th>LastPrice</th>\n",
       "      <th>MarketCap($BLN)</th>\n",
       "      <th>Avg3MVol(M)</th>\n",
       "      <th>EPS_Est_Next_Year</th>\n",
       "      <th>Forward P/E</th>\n",
       "      <th>DivPaymentDate</th>\n",
       "      <th>ExDivDate</th>\n",
       "      <th>Div/Share</th>\n",
       "      <th>ForwardAnnualDivRate</th>\n",
       "      <th>ForwardAnnualDivYield</th>\n",
       "      <th>TrailingAnnualDivRate</th>\n",
       "      <th>TrailingAnnualDivYield</th>\n",
       "      <th>Price/Book</th>\n",
       "    </tr>\n",
       "    <tr>\n",
       "      <th>Symbol</th>\n",
       "      <th></th>\n",
       "      <th></th>\n",
       "      <th></th>\n",
       "      <th></th>\n",
       "      <th></th>\n",
       "      <th></th>\n",
       "      <th></th>\n",
       "      <th></th>\n",
       "      <th></th>\n",
       "      <th></th>\n",
       "      <th></th>\n",
       "      <th></th>\n",
       "      <th></th>\n",
       "      <th></th>\n",
       "    </tr>\n",
       "  </thead>\n",
       "  <tbody>\n",
       "    <tr>\n",
       "      <th>HON</th>\n",
       "      <td>Honeywell International</td>\n",
       "      <td>221.69</td>\n",
       "      <td>153.055</td>\n",
       "      <td>2.845</td>\n",
       "      <td>9.20</td>\n",
       "      <td>24.10</td>\n",
       "      <td>2-Sep-21</td>\n",
       "      <td>12-Aug-21</td>\n",
       "      <td>3.69</td>\n",
       "      <td>3.72</td>\n",
       "      <td>1.69%</td>\n",
       "      <td>3.69</td>\n",
       "      <td>1.68%</td>\n",
       "      <td>8.53</td>\n",
       "    </tr>\n",
       "    <tr>\n",
       "      <th>UPS</th>\n",
       "      <td>United Parcel Service</td>\n",
       "      <td>193.35</td>\n",
       "      <td>168.416</td>\n",
       "      <td>2.826</td>\n",
       "      <td>11.70</td>\n",
       "      <td>16.53</td>\n",
       "      <td>8-Sep-21</td>\n",
       "      <td>20-Aug-21</td>\n",
       "      <td>4.06</td>\n",
       "      <td>4.08</td>\n",
       "      <td>2.14%</td>\n",
       "      <td>4.06</td>\n",
       "      <td>2.13%</td>\n",
       "      <td>15.60</td>\n",
       "    </tr>\n",
       "    <tr>\n",
       "      <th>UNP</th>\n",
       "      <td>Union Pacific Corporation</td>\n",
       "      <td>204.25</td>\n",
       "      <td>133.196</td>\n",
       "      <td>2.904</td>\n",
       "      <td>11.28</td>\n",
       "      <td>18.11</td>\n",
       "      <td>29-Sep-21</td>\n",
       "      <td>30-Aug-21</td>\n",
       "      <td>3.98</td>\n",
       "      <td>4.28</td>\n",
       "      <td>2.10%</td>\n",
       "      <td>3.98</td>\n",
       "      <td>1.96%</td>\n",
       "      <td>9.32</td>\n",
       "    </tr>\n",
       "    <tr>\n",
       "      <th>BA</th>\n",
       "      <td>Boeing</td>\n",
       "      <td>214.22</td>\n",
       "      <td>125.565</td>\n",
       "      <td>10.790</td>\n",
       "      <td>6.07</td>\n",
       "      <td>35.29</td>\n",
       "      <td>5-Mar-20</td>\n",
       "      <td>13-Feb-20</td>\n",
       "      <td>0.00</td>\n",
       "      <td>0.00</td>\n",
       "      <td>0</td>\n",
       "      <td>0.00</td>\n",
       "      <td>0</td>\n",
       "      <td>-7.52</td>\n",
       "    </tr>\n",
       "    <tr>\n",
       "      <th>RTX</th>\n",
       "      <td>Raytheon Technologies Corporation</td>\n",
       "      <td>84.87</td>\n",
       "      <td>127.974</td>\n",
       "      <td>4.646</td>\n",
       "      <td>5.04</td>\n",
       "      <td>16.84</td>\n",
       "      <td>8-Sep-21</td>\n",
       "      <td>19-Aug-21</td>\n",
       "      <td>1.94</td>\n",
       "      <td>2.04</td>\n",
       "      <td>2.47%</td>\n",
       "      <td>1.93</td>\n",
       "      <td>2.34%</td>\n",
       "      <td>1.80</td>\n",
       "    </tr>\n",
       "    <tr>\n",
       "      <th>CAT</th>\n",
       "      <td>Caterpillar</td>\n",
       "      <td>205.73</td>\n",
       "      <td>112.631</td>\n",
       "      <td>3.627</td>\n",
       "      <td>12.46</td>\n",
       "      <td>16.51</td>\n",
       "      <td>19-Aug-21</td>\n",
       "      <td>19-Jul-21</td>\n",
       "      <td>4.12</td>\n",
       "      <td>4.44</td>\n",
       "      <td>2.19%</td>\n",
       "      <td>4.20</td>\n",
       "      <td>2.08%</td>\n",
       "      <td>6.69</td>\n",
       "    </tr>\n",
       "    <tr>\n",
       "      <th>GE</th>\n",
       "      <td>General Electric</td>\n",
       "      <td>102.16</td>\n",
       "      <td>112.137</td>\n",
       "      <td>8.365</td>\n",
       "      <td>4.33</td>\n",
       "      <td>23.59</td>\n",
       "      <td>24-Oct-21</td>\n",
       "      <td>24-Sep-21</td>\n",
       "      <td>0.32</td>\n",
       "      <td>0.32</td>\n",
       "      <td>0.31%</td>\n",
       "      <td>0.32</td>\n",
       "      <td>0.32%</td>\n",
       "      <td>3.35</td>\n",
       "    </tr>\n",
       "    <tr>\n",
       "      <th>MMM</th>\n",
       "      <td>3M Co.</td>\n",
       "      <td>184.19</td>\n",
       "      <td>106.579</td>\n",
       "      <td>2.317</td>\n",
       "      <td>10.78</td>\n",
       "      <td>17.09</td>\n",
       "      <td>11-Sep-21</td>\n",
       "      <td>20-Aug-21</td>\n",
       "      <td>5.90</td>\n",
       "      <td>5.92</td>\n",
       "      <td>3.25%</td>\n",
       "      <td>5.90</td>\n",
       "      <td>3.23%</td>\n",
       "      <td>7.38</td>\n",
       "    </tr>\n",
       "    <tr>\n",
       "      <th>DE</th>\n",
       "      <td>Deere &amp; Co.</td>\n",
       "      <td>359.77</td>\n",
       "      <td>111.551</td>\n",
       "      <td>1.656</td>\n",
       "      <td>22.30</td>\n",
       "      <td>16.13</td>\n",
       "      <td>7-Nov-21</td>\n",
       "      <td>29-Sep-21</td>\n",
       "      <td>3.32</td>\n",
       "      <td>4.20</td>\n",
       "      <td>1.18%</td>\n",
       "      <td>3.32</td>\n",
       "      <td>0.93%</td>\n",
       "      <td>7.09</td>\n",
       "    </tr>\n",
       "    <tr>\n",
       "      <th>LMT</th>\n",
       "      <td>Lockheed Martin Co.</td>\n",
       "      <td>345.07</td>\n",
       "      <td>95.555</td>\n",
       "      <td>1.118</td>\n",
       "      <td>27.98</td>\n",
       "      <td>12.33</td>\n",
       "      <td>23-Sep-21</td>\n",
       "      <td>31-Aug-21</td>\n",
       "      <td>10.20</td>\n",
       "      <td>10.40</td>\n",
       "      <td>3.02%</td>\n",
       "      <td>10.20</td>\n",
       "      <td>2.96%</td>\n",
       "      <td>14.60</td>\n",
       "    </tr>\n",
       "  </tbody>\n",
       "</table>\n",
       "</div>"
      ],
      "text/plain": [
       "                               IssuerName  LastPrice  MarketCap($BLN)  \\\n",
       "Symbol                                                                  \n",
       "HON               Honeywell International     221.69          153.055   \n",
       "UPS                 United Parcel Service     193.35          168.416   \n",
       "UNP             Union Pacific Corporation     204.25          133.196   \n",
       "BA                                Boeing      214.22          125.565   \n",
       "RTX     Raytheon Technologies Corporation      84.87          127.974   \n",
       "CAT                          Caterpillar      205.73          112.631   \n",
       "GE                       General Electric     102.16          112.137   \n",
       "MMM                                3M Co.     184.19          106.579   \n",
       "DE                            Deere & Co.     359.77          111.551   \n",
       "LMT                   Lockheed Martin Co.     345.07           95.555   \n",
       "\n",
       "        Avg3MVol(M)  EPS_Est_Next_Year  Forward P/E DivPaymentDate  ExDivDate  \\\n",
       "Symbol                                                                          \n",
       "HON           2.845               9.20        24.10       2-Sep-21  12-Aug-21   \n",
       "UPS           2.826              11.70        16.53       8-Sep-21  20-Aug-21   \n",
       "UNP           2.904              11.28        18.11      29-Sep-21  30-Aug-21   \n",
       "BA           10.790               6.07        35.29       5-Mar-20  13-Feb-20   \n",
       "RTX           4.646               5.04        16.84       8-Sep-21  19-Aug-21   \n",
       "CAT           3.627              12.46        16.51      19-Aug-21  19-Jul-21   \n",
       "GE            8.365               4.33        23.59      24-Oct-21  24-Sep-21   \n",
       "MMM           2.317              10.78        17.09      11-Sep-21  20-Aug-21   \n",
       "DE            1.656              22.30        16.13       7-Nov-21  29-Sep-21   \n",
       "LMT           1.118              27.98        12.33      23-Sep-21  31-Aug-21   \n",
       "\n",
       "        Div/Share  ForwardAnnualDivRate ForwardAnnualDivYield  \\\n",
       "Symbol                                                          \n",
       "HON          3.69                  3.72                 1.69%   \n",
       "UPS          4.06                  4.08                 2.14%   \n",
       "UNP          3.98                  4.28                 2.10%   \n",
       "BA           0.00                  0.00                     0   \n",
       "RTX          1.94                  2.04                 2.47%   \n",
       "CAT          4.12                  4.44                 2.19%   \n",
       "GE           0.32                  0.32                 0.31%   \n",
       "MMM          5.90                  5.92                 3.25%   \n",
       "DE           3.32                  4.20                 1.18%   \n",
       "LMT         10.20                 10.40                 3.02%   \n",
       "\n",
       "        TrailingAnnualDivRate TrailingAnnualDivYield  Price/Book  \n",
       "Symbol                                                            \n",
       "HON                      3.69                  1.68%        8.53  \n",
       "UPS                      4.06                  2.13%       15.60  \n",
       "UNP                      3.98                  1.96%        9.32  \n",
       "BA                       0.00                      0       -7.52  \n",
       "RTX                      1.93                  2.34%        1.80  \n",
       "CAT                      4.20                  2.08%        6.69  \n",
       "GE                       0.32                  0.32%        3.35  \n",
       "MMM                      5.90                  3.23%        7.38  \n",
       "DE                       3.32                  0.93%        7.09  \n",
       "LMT                     10.20                  2.96%       14.60  "
      ]
     },
     "execution_count": 74,
     "metadata": {},
     "output_type": "execute_result"
    }
   ],
   "source": [
    "df = pd.read_csv('IndustrialStocksFundamentals.csv',index_col = \"Symbol\")\n",
    "df"
   ]
  },
  {
   "cell_type": "code",
   "execution_count": null,
   "id": "ee0effe1",
   "metadata": {},
   "outputs": [],
   "source": [
    "d = [float(x.strip('%')) for x in df['ForwardAnnualDivYield'].tolist()]\n",
    "df.ForwardAnnualDivYield = pd.DataFrame({'ForwardAnnualDivYield': d}, index=df.index)"
   ]
  },
  {
   "cell_type": "code",
   "execution_count": 31,
   "id": "8872c57c",
   "metadata": {},
   "outputs": [
    {
     "data": {
      "text/plain": [
       "1.8350000000000002"
      ]
     },
     "execution_count": 31,
     "metadata": {},
     "output_type": "execute_result"
    }
   ],
   "source": [
    "df.ForwardAnnualDivYield.mean()"
   ]
  },
  {
   "cell_type": "code",
   "execution_count": 15,
   "id": "d250cdac",
   "metadata": {},
   "outputs": [
    {
     "data": {
      "text/plain": [
       "19.652"
      ]
     },
     "execution_count": 15,
     "metadata": {},
     "output_type": "execute_result"
    }
   ],
   "source": [
    "ave_forward_pe = df['Forward P/E'].mean()\n",
    "ave_forward_pe"
   ]
  },
  {
   "cell_type": "code",
   "execution_count": 89,
   "id": "7f49499b",
   "metadata": {},
   "outputs": [
    {
     "ename": "ValueError",
     "evalue": "could not convert string to float: '%2'",
     "output_type": "error",
     "traceback": [
      "\u001b[0;31m---------------------------------------------------------------------------\u001b[0m",
      "\u001b[0;31mValueError\u001b[0m                                Traceback (most recent call last)",
      "Cell \u001b[0;32mIn [89], line 3\u001b[0m\n\u001b[1;32m      1\u001b[0m a \u001b[38;5;241m=\u001b[39m \u001b[38;5;124m'\u001b[39m\u001b[38;5;124m%\u001b[39m\u001b[38;5;124m2\u001b[39m\u001b[38;5;124m'\u001b[39m\n\u001b[0;32m----> 3\u001b[0m a \u001b[38;5;241m=\u001b[39m \u001b[38;5;28;43mfloat\u001b[39;49m\u001b[43m(\u001b[49m\u001b[43ma\u001b[49m\u001b[43m)\u001b[49m\n\u001b[1;32m      4\u001b[0m a\n",
      "\u001b[0;31mValueError\u001b[0m: could not convert string to float: '%2'"
     ]
    }
   ],
   "source": [
    "a = '%2'\n",
    "\n",
    "a = float(a)\n",
    "a"
   ]
  },
  {
   "cell_type": "code",
   "execution_count": null,
   "id": "ffdb59ef",
   "metadata": {},
   "outputs": [],
   "source": []
  },
  {
   "cell_type": "code",
   "execution_count": null,
   "id": "e208dcc0",
   "metadata": {},
   "outputs": [],
   "source": []
  },
  {
   "cell_type": "code",
   "execution_count": 33,
   "id": "fb95f7cd",
   "metadata": {},
   "outputs": [
    {
     "data": {
      "text/plain": [
       "1"
      ]
     },
     "execution_count": 33,
     "metadata": {},
     "output_type": "execute_result"
    }
   ],
   "source": [
    "a = '1'\n",
    "a = int(a)\n",
    "a"
   ]
  },
  {
   "cell_type": "code",
   "execution_count": 46,
   "id": "12694515",
   "metadata": {},
   "outputs": [
    {
     "data": {
      "text/plain": [
       "12.33"
      ]
     },
     "execution_count": 46,
     "metadata": {},
     "output_type": "execute_result"
    }
   ],
   "source": []
  },
  {
   "cell_type": "code",
   "execution_count": 48,
   "id": "afe80055",
   "metadata": {},
   "outputs": [
    {
     "data": {
      "text/plain": [
       "'0'"
      ]
     },
     "execution_count": 48,
     "metadata": {},
     "output_type": "execute_result"
    }
   ],
   "source": []
  },
  {
   "cell_type": "code",
   "execution_count": null,
   "id": "34abb71f",
   "metadata": {},
   "outputs": [],
   "source": []
  }
 ],
 "metadata": {
  "kernelspec": {
   "display_name": "Python 3 (ipykernel)",
   "language": "python",
   "name": "python3"
  },
  "language_info": {
   "codemirror_mode": {
    "name": "ipython",
    "version": 3
   },
   "file_extension": ".py",
   "mimetype": "text/x-python",
   "name": "python",
   "nbconvert_exporter": "python",
   "pygments_lexer": "ipython3",
   "version": "3.10.4"
  }
 },
 "nbformat": 4,
 "nbformat_minor": 5
}
