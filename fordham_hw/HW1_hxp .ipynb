{
 "cells": [
  {
   "cell_type": "code",
   "execution_count": 72,
   "metadata": {},
   "outputs": [
    {
     "name": "stdout",
     "output_type": "stream",
     "text": [
      "    TimeStamp  AskPrice  AskSize  BidPrice  BidSize\n",
      "0       34200     27.49     6327     27.48     5100\n",
      "1       34500     27.41     3700     27.40    12218\n",
      "2       34800     27.36     1800     27.35     7522\n",
      "3       35100     27.37     9062     27.36     4171\n",
      "4       35400     27.38    15652     27.37     2062\n",
      "..        ...       ...      ...       ...      ...\n",
      "73      56100     26.73    25364     26.72    11256\n",
      "74      56400     26.70    14245     26.69    19159\n",
      "75      56700     26.63    21600     26.62    43790\n",
      "76      57000     26.70    16745     26.69    67220\n",
      "77      57300     26.72    88204     26.71     3391\n",
      "\n",
      "[78 rows x 5 columns]\n"
     ]
    }
   ],
   "source": [
    "## 1. read the csv data by using Pandas package\n",
    "import pandas as pd\n",
    "import numpy as np\n",
    "\n",
    "data = pd.read_csv(\"/Users/wesley/Desktop/Wesley/Fordham/Financial Market & Modeling/hw#1/INTC_2012-06-21_orderbook_5min.csv\")\n",
    "\n",
    "print(data)"
   ]
  },
  {
   "cell_type": "code",
   "execution_count": 73,
   "metadata": {},
   "outputs": [
    {
     "name": "stdout",
     "output_type": "stream",
     "text": [
      "    TimeStamp  AskPrice  AskSize  BidPrice  BidSize  mid_price  Bid-Ask Spread\n",
      "0       34200     27.49     6327     27.48     5100     27.485            0.01\n",
      "1       34500     27.41     3700     27.40    12218     27.405            0.01\n",
      "2       34800     27.36     1800     27.35     7522     27.355            0.01\n",
      "3       35100     27.37     9062     27.36     4171     27.365            0.01\n",
      "4       35400     27.38    15652     27.37     2062     27.375            0.01\n",
      "..        ...       ...      ...       ...      ...        ...             ...\n",
      "73      56100     26.73    25364     26.72    11256     26.725            0.01\n",
      "74      56400     26.70    14245     26.69    19159     26.695            0.01\n",
      "75      56700     26.63    21600     26.62    43790     26.625            0.01\n",
      "76      57000     26.70    16745     26.69    67220     26.695            0.01\n",
      "77      57300     26.72    88204     26.71     3391     26.715            0.01\n",
      "\n",
      "[78 rows x 7 columns]\n"
     ]
    }
   ],
   "source": [
    "## 2. (a) Calculate the mid-price\n",
    "data[\"mid_price\"] = (data[\"AskPrice\"] + data[\"BidPrice\"])/2\n",
    "\n",
    "## 2. (b) bid-ask spread\n",
    "data[\"Bid-Ask Spread\"] = data[\"AskPrice\"] - data[\"BidPrice\"]\n",
    "\n",
    "print(data)"
   ]
  },
  {
   "cell_type": "code",
   "execution_count": 74,
   "metadata": {},
   "outputs": [
    {
     "name": "stdout",
     "output_type": "stream",
     "text": [
      "27.49\n",
      "54980.0\n"
     ]
    }
   ],
   "source": [
    "## 3.a\n",
    "openPrice = data.iloc[0][\"AskPrice\"] \n",
    "print(openPrice)\n",
    "\n",
    "market_value = openPrice * 2000\n",
    "print(market_value)"
   ]
  },
  {
   "cell_type": "code",
   "execution_count": 75,
   "metadata": {},
   "outputs": [
    {
     "name": "stdout",
     "output_type": "stream",
     "text": [
      "26.71\n",
      "53420.0\n"
     ]
    }
   ],
   "source": [
    "## 3.b\n",
    "closePrice = data.iloc[77][\"BidPrice\"]\n",
    "print(closePrice)\n",
    "\n",
    "sales_proceed = closePrice * 2000\n",
    "print(sales_proceed)"
   ]
  },
  {
   "cell_type": "code",
   "execution_count": 76,
   "metadata": {},
   "outputs": [
    {
     "name": "stdout",
     "output_type": "stream",
     "text": [
      "-1560.0\n"
     ]
    }
   ],
   "source": [
    "##3.c P&L\n",
    "P_and_L = sales_proceed - market_value\n",
    "print(P_and_L)"
   ]
  },
  {
   "cell_type": "code",
   "execution_count": 77,
   "metadata": {},
   "outputs": [
    {
     "name": "stdout",
     "output_type": "stream",
     "text": [
      "100\n",
      "0\n",
      "0\n",
      "100\n",
      "200\n",
      "0\n",
      "100\n",
      "100\n",
      "100\n",
      "100\n",
      "200\n",
      "0\n",
      "100\n",
      "100\n",
      "100\n",
      "100\n",
      "100\n",
      "100\n",
      "100\n",
      "100\n",
      "200\n",
      "The number of bought shares is  2000\n",
      "used  105 mins\n",
      "21  is how many times for purchase\n"
     ]
    }
   ],
   "source": [
    "##4.a\n",
    "num_buy = 0\n",
    "i = 0\n",
    "while num_buy < 2000:\n",
    "    buySize = data.iloc[i][\"AskSize\"]\n",
    "    if (5000 <= buySize < 15000 and num_buy <= 2000):\n",
    "        planToBuy = 100\n",
    "        num_buy += 100\n",
    "        print(planToBuy)\n",
    "    elif( 15000 < buySize < 25000 and num_buy <= 2000):\n",
    "        planToBuy = 200\n",
    "        num_buy += 200\n",
    "        print(planToBuy)\n",
    "    elif(25000 < buySize < 35000 and num_buy <= 2000):\n",
    "        planToBuy = 300\n",
    "        num_buy += 300\n",
    "        print(planToBuy)\n",
    "    else:\n",
    "        planToBuy = 0\n",
    "        print(0)\n",
    "    i += 1\n",
    "    TimeUsed = i * 5\n",
    "print(\"The number of bought shares is \",num_buy)\n",
    "print(\"used \",TimeUsed, \"mins\")\n",
    "print(i, \" is how many times for purchase\")\n",
    "        "
   ]
  },
  {
   "cell_type": "code",
   "execution_count": 78,
   "metadata": {},
   "outputs": [
    {
     "name": "stdout",
     "output_type": "stream",
     "text": [
      "The average price is  27.3505\n"
     ]
    }
   ],
   "source": [
    "##4.b\n",
    "num_buy = 0\n",
    "i = 0\n",
    "price_take = []\n",
    "shares_take = []\n",
    "while num_buy < 2000:\n",
    "    buySize = data.iloc[i][\"AskSize\"]\n",
    "    if (5000 <= buySize < 15000 and num_buy <= 2000):\n",
    "        planToBuy = 100\n",
    "        num_buy += 100\n",
    "        # print(planToBuy)\n",
    "        price_take.append(data.iloc[i][\"AskPrice\"])\n",
    "        shares_take.append(planToBuy)\n",
    "    elif( 15000 < buySize < 25000 and num_buy <= 2000):\n",
    "        planToBuy = 200\n",
    "        num_buy += 200\n",
    "        # print(planToBuy)\n",
    "        price_take.append(data.iloc[i][\"AskPrice\"])\n",
    "        shares_take.append(planToBuy)\n",
    "    elif(25000 < buySize < 35000 and num_buy <= 2000):\n",
    "        planToBuy = 300\n",
    "        num_buy += 300\n",
    "        # print(planToBuy)\n",
    "        price_take.append(data.iloc[i][\"AskPrice\"])\n",
    "        shares_take.append(planToBuy)\n",
    "    else:\n",
    "        planToBuy = 0\n",
    "        # print(0)\n",
    "    i += 1\n",
    "    TimeUsed = i * 5\n",
    "ave_price = sum(np.multiply(price_take,shares_take))/num_buy\n",
    "print(\"The average price is \", ave_price)\n",
    "# print(num_buy)\n",
    "# print(TimeUsed, \"mins\")\n",
    "# print(i)\n",
    "        "
   ]
  },
  {
   "cell_type": "code",
   "execution_count": 79,
   "metadata": {},
   "outputs": [
    {
     "name": "stdout",
     "output_type": "stream",
     "text": [
      "-1281.0\n"
     ]
    }
   ],
   "source": [
    "##4.c\n",
    "cost = sum(np.multiply(price_take,amount))\n",
    "P_and_L = sales_proceed - cost\n",
    "print(P_and_L)"
   ]
  }
 ],
 "metadata": {
  "kernelspec": {
   "display_name": "Python 3.9.12 ('base')",
   "language": "python",
   "name": "python3"
  },
  "language_info": {
   "codemirror_mode": {
    "name": "ipython",
    "version": 3
   },
   "file_extension": ".py",
   "mimetype": "text/x-python",
   "name": "python",
   "nbconvert_exporter": "python",
   "pygments_lexer": "ipython3",
   "version": "3.9.12"
  },
  "orig_nbformat": 4,
  "vscode": {
   "interpreter": {
    "hash": "4b700fda2b1fe4e42d09251a5077ace29fa7b3db07261659c5bdece5f107dc5e"
   }
  }
 },
 "nbformat": 4,
 "nbformat_minor": 2
}
