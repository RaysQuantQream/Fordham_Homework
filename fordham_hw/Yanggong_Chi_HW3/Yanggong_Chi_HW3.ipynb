{
 "cells": [
  {
   "cell_type": "code",
   "execution_count": 1,
   "id": "40936ed0",
   "metadata": {},
   "outputs": [],
   "source": [
    "import pandas as pd\n",
    "import numpy as np\n",
    "import matplotlib as mlt"
   ]
  },
  {
   "cell_type": "code",
   "execution_count": 2,
   "id": "1a4533a8",
   "metadata": {},
   "outputs": [],
   "source": [
    "# 1.1\n",
    "def LongMarginCall(Price0, nShares, actEqy, mMargin):\n",
    "    call_price = Price0 * (1 - actEqy / (nShares * Price0)) / (1 - mMargin)\n",
    "    return call_price\n",
    "def ShortMarginCall(Price0, nShares, actEqy, mMargin):\n",
    "    call_price = Price0 * (1 + actEqy / (nShares * Price0)) / (1 + mMargin)\n",
    "    return call_price"
   ]
  },
  {
   "cell_type": "code",
   "execution_count": 3,
   "id": "cc07c358",
   "metadata": {},
   "outputs": [],
   "source": [
    "df_g = pd.read_csv(\"./GME.csv\")"
   ]
  },
  {
   "cell_type": "code",
   "execution_count": 4,
   "id": "2ed3b9dc",
   "metadata": {},
   "outputs": [],
   "source": [
    "df_g = df_g.set_index('Date')"
   ]
  },
  {
   "cell_type": "code",
   "execution_count": 5,
   "id": "0039c9ab",
   "metadata": {},
   "outputs": [
    {
     "data": {
      "text/html": [
       "<div>\n",
       "<style scoped>\n",
       "    .dataframe tbody tr th:only-of-type {\n",
       "        vertical-align: middle;\n",
       "    }\n",
       "\n",
       "    .dataframe tbody tr th {\n",
       "        vertical-align: top;\n",
       "    }\n",
       "\n",
       "    .dataframe thead th {\n",
       "        text-align: right;\n",
       "    }\n",
       "</style>\n",
       "<table border=\"1\" class=\"dataframe\">\n",
       "  <thead>\n",
       "    <tr style=\"text-align: right;\">\n",
       "      <th></th>\n",
       "      <th>Open</th>\n",
       "      <th>High</th>\n",
       "      <th>Low</th>\n",
       "      <th>Close</th>\n",
       "      <th>Adj Close</th>\n",
       "      <th>Volume</th>\n",
       "    </tr>\n",
       "    <tr>\n",
       "      <th>Date</th>\n",
       "      <th></th>\n",
       "      <th></th>\n",
       "      <th></th>\n",
       "      <th></th>\n",
       "      <th></th>\n",
       "      <th></th>\n",
       "    </tr>\n",
       "  </thead>\n",
       "  <tbody>\n",
       "    <tr>\n",
       "      <th>2020-09-23</th>\n",
       "      <td>10.600000</td>\n",
       "      <td>10.860000</td>\n",
       "      <td>9.920000</td>\n",
       "      <td>10.040000</td>\n",
       "      <td>10.040000</td>\n",
       "      <td>10651200</td>\n",
       "    </tr>\n",
       "    <tr>\n",
       "      <th>2020-09-24</th>\n",
       "      <td>9.710000</td>\n",
       "      <td>9.810000</td>\n",
       "      <td>9.010000</td>\n",
       "      <td>9.140000</td>\n",
       "      <td>9.140000</td>\n",
       "      <td>7938800</td>\n",
       "    </tr>\n",
       "    <tr>\n",
       "      <th>2020-09-25</th>\n",
       "      <td>9.190000</td>\n",
       "      <td>10.180000</td>\n",
       "      <td>9.100000</td>\n",
       "      <td>10.020000</td>\n",
       "      <td>10.020000</td>\n",
       "      <td>7515200</td>\n",
       "    </tr>\n",
       "    <tr>\n",
       "      <th>2020-09-28</th>\n",
       "      <td>10.160000</td>\n",
       "      <td>10.260000</td>\n",
       "      <td>9.550000</td>\n",
       "      <td>10.090000</td>\n",
       "      <td>10.090000</td>\n",
       "      <td>6764300</td>\n",
       "    </tr>\n",
       "    <tr>\n",
       "      <th>2020-09-29</th>\n",
       "      <td>10.000000</td>\n",
       "      <td>10.650000</td>\n",
       "      <td>9.930000</td>\n",
       "      <td>10.350000</td>\n",
       "      <td>10.350000</td>\n",
       "      <td>5237600</td>\n",
       "    </tr>\n",
       "    <tr>\n",
       "      <th>...</th>\n",
       "      <td>...</td>\n",
       "      <td>...</td>\n",
       "      <td>...</td>\n",
       "      <td>...</td>\n",
       "      <td>...</td>\n",
       "      <td>...</td>\n",
       "    </tr>\n",
       "    <tr>\n",
       "      <th>2021-09-16</th>\n",
       "      <td>202.330002</td>\n",
       "      <td>216.550003</td>\n",
       "      <td>201.149994</td>\n",
       "      <td>206.369995</td>\n",
       "      <td>206.369995</td>\n",
       "      <td>3058200</td>\n",
       "    </tr>\n",
       "    <tr>\n",
       "      <th>2021-09-17</th>\n",
       "      <td>208.020004</td>\n",
       "      <td>212.490005</td>\n",
       "      <td>200.779999</td>\n",
       "      <td>204.970001</td>\n",
       "      <td>204.970001</td>\n",
       "      <td>3945900</td>\n",
       "    </tr>\n",
       "    <tr>\n",
       "      <th>2021-09-20</th>\n",
       "      <td>200.000000</td>\n",
       "      <td>202.850006</td>\n",
       "      <td>184.550003</td>\n",
       "      <td>192.199997</td>\n",
       "      <td>192.199997</td>\n",
       "      <td>3941800</td>\n",
       "    </tr>\n",
       "    <tr>\n",
       "      <th>2021-09-21</th>\n",
       "      <td>199.360001</td>\n",
       "      <td>199.360001</td>\n",
       "      <td>186.000000</td>\n",
       "      <td>189.949997</td>\n",
       "      <td>189.949997</td>\n",
       "      <td>2633800</td>\n",
       "    </tr>\n",
       "    <tr>\n",
       "      <th>2021-09-22</th>\n",
       "      <td>189.639999</td>\n",
       "      <td>193.500000</td>\n",
       "      <td>186.289993</td>\n",
       "      <td>190.139999</td>\n",
       "      <td>190.139999</td>\n",
       "      <td>2252600</td>\n",
       "    </tr>\n",
       "  </tbody>\n",
       "</table>\n",
       "<p>252 rows × 6 columns</p>\n",
       "</div>"
      ],
      "text/plain": [
       "                  Open        High         Low       Close   Adj Close  \\\n",
       "Date                                                                     \n",
       "2020-09-23   10.600000   10.860000    9.920000   10.040000   10.040000   \n",
       "2020-09-24    9.710000    9.810000    9.010000    9.140000    9.140000   \n",
       "2020-09-25    9.190000   10.180000    9.100000   10.020000   10.020000   \n",
       "2020-09-28   10.160000   10.260000    9.550000   10.090000   10.090000   \n",
       "2020-09-29   10.000000   10.650000    9.930000   10.350000   10.350000   \n",
       "...                ...         ...         ...         ...         ...   \n",
       "2021-09-16  202.330002  216.550003  201.149994  206.369995  206.369995   \n",
       "2021-09-17  208.020004  212.490005  200.779999  204.970001  204.970001   \n",
       "2021-09-20  200.000000  202.850006  184.550003  192.199997  192.199997   \n",
       "2021-09-21  199.360001  199.360001  186.000000  189.949997  189.949997   \n",
       "2021-09-22  189.639999  193.500000  186.289993  190.139999  190.139999   \n",
       "\n",
       "              Volume  \n",
       "Date                  \n",
       "2020-09-23  10651200  \n",
       "2020-09-24   7938800  \n",
       "2020-09-25   7515200  \n",
       "2020-09-28   6764300  \n",
       "2020-09-29   5237600  \n",
       "...              ...  \n",
       "2021-09-16   3058200  \n",
       "2021-09-17   3945900  \n",
       "2021-09-20   3941800  \n",
       "2021-09-21   2633800  \n",
       "2021-09-22   2252600  \n",
       "\n",
       "[252 rows x 6 columns]"
      ]
     },
     "execution_count": 5,
     "metadata": {},
     "output_type": "execute_result"
    }
   ],
   "source": [
    "df_g"
   ]
  },
  {
   "cell_type": "code",
   "execution_count": 6,
   "id": "f9459c8a",
   "metadata": {},
   "outputs": [
    {
     "name": "stdout",
     "output_type": "stream",
     "text": [
      "I have to put 19955.000000 into my account to establish this short position under the Reg-T margin rule\n"
     ]
    }
   ],
   "source": [
    "# 2.a\n",
    "pos = df_g.loc['2021-01-14', 'Close'] * 1000 * 0.5\n",
    "print('I have to put %f into my account to establish this short position under the Reg-T margin rule' % pos)"
   ]
  },
  {
   "cell_type": "code",
   "execution_count": 7,
   "id": "18aa8237",
   "metadata": {},
   "outputs": [
    {
     "data": {
      "text/plain": [
       "39.91"
      ]
     },
     "execution_count": 7,
     "metadata": {},
     "output_type": "execute_result"
    }
   ],
   "source": [
    "df_g.loc['2021-01-14', 'Close']"
   ]
  },
  {
   "cell_type": "code",
   "execution_count": 8,
   "id": "c181d961",
   "metadata": {},
   "outputs": [
    {
     "name": "stdout",
     "output_type": "stream",
     "text": [
      "At price 42.760714 would I get a margin call\n"
     ]
    }
   ],
   "source": [
    "# 2.b\n",
    "margin_call_price = ShortMarginCall(df_g.loc['2021-01-14', 'Close'], 1000, df_g.loc['2021-01-14', 'Close'] * 1000 * 0.5, 0.4)\n",
    "print(\"At price %f would I get a margin call\" % margin_call_price)"
   ]
  },
  {
   "cell_type": "code",
   "execution_count": 9,
   "id": "a954c4c7",
   "metadata": {},
   "outputs": [
    {
     "data": {
      "text/html": [
       "<div>\n",
       "<style scoped>\n",
       "    .dataframe tbody tr th:only-of-type {\n",
       "        vertical-align: middle;\n",
       "    }\n",
       "\n",
       "    .dataframe tbody tr th {\n",
       "        vertical-align: top;\n",
       "    }\n",
       "\n",
       "    .dataframe thead th {\n",
       "        text-align: right;\n",
       "    }\n",
       "</style>\n",
       "<table border=\"1\" class=\"dataframe\">\n",
       "  <thead>\n",
       "    <tr style=\"text-align: right;\">\n",
       "      <th></th>\n",
       "      <th>Open</th>\n",
       "      <th>High</th>\n",
       "      <th>Low</th>\n",
       "      <th>Close</th>\n",
       "      <th>Adj Close</th>\n",
       "      <th>Volume</th>\n",
       "    </tr>\n",
       "    <tr>\n",
       "      <th>Date</th>\n",
       "      <th></th>\n",
       "      <th></th>\n",
       "      <th></th>\n",
       "      <th></th>\n",
       "      <th></th>\n",
       "      <th></th>\n",
       "    </tr>\n",
       "  </thead>\n",
       "  <tbody>\n",
       "    <tr>\n",
       "      <th>2021-01-21</th>\n",
       "      <td>39.230000</td>\n",
       "      <td>44.750000</td>\n",
       "      <td>37.000000</td>\n",
       "      <td>43.029999</td>\n",
       "      <td>43.029999</td>\n",
       "      <td>56216900</td>\n",
       "    </tr>\n",
       "    <tr>\n",
       "      <th>2021-01-22</th>\n",
       "      <td>42.590000</td>\n",
       "      <td>76.760002</td>\n",
       "      <td>42.320000</td>\n",
       "      <td>65.010002</td>\n",
       "      <td>65.010002</td>\n",
       "      <td>197157900</td>\n",
       "    </tr>\n",
       "    <tr>\n",
       "      <th>2021-01-25</th>\n",
       "      <td>96.730003</td>\n",
       "      <td>159.179993</td>\n",
       "      <td>61.130001</td>\n",
       "      <td>76.790001</td>\n",
       "      <td>76.790001</td>\n",
       "      <td>177874000</td>\n",
       "    </tr>\n",
       "    <tr>\n",
       "      <th>2021-01-26</th>\n",
       "      <td>88.559998</td>\n",
       "      <td>150.000000</td>\n",
       "      <td>80.199997</td>\n",
       "      <td>147.979996</td>\n",
       "      <td>147.979996</td>\n",
       "      <td>178588000</td>\n",
       "    </tr>\n",
       "    <tr>\n",
       "      <th>2021-01-27</th>\n",
       "      <td>354.829987</td>\n",
       "      <td>380.000000</td>\n",
       "      <td>249.000000</td>\n",
       "      <td>347.510010</td>\n",
       "      <td>347.510010</td>\n",
       "      <td>93396700</td>\n",
       "    </tr>\n",
       "  </tbody>\n",
       "</table>\n",
       "</div>"
      ],
      "text/plain": [
       "                  Open        High         Low       Close   Adj Close  \\\n",
       "Date                                                                     \n",
       "2021-01-21   39.230000   44.750000   37.000000   43.029999   43.029999   \n",
       "2021-01-22   42.590000   76.760002   42.320000   65.010002   65.010002   \n",
       "2021-01-25   96.730003  159.179993   61.130001   76.790001   76.790001   \n",
       "2021-01-26   88.559998  150.000000   80.199997  147.979996  147.979996   \n",
       "2021-01-27  354.829987  380.000000  249.000000  347.510010  347.510010   \n",
       "\n",
       "               Volume  \n",
       "Date                   \n",
       "2021-01-21   56216900  \n",
       "2021-01-22  197157900  \n",
       "2021-01-25  177874000  \n",
       "2021-01-26  178588000  \n",
       "2021-01-27   93396700  "
      ]
     },
     "execution_count": 9,
     "metadata": {},
     "output_type": "execute_result"
    }
   ],
   "source": [
    "# 2.c\n",
    "df_after = df_g[\"2021-01-15\" :]\n",
    "df_after[df_after['Close'] > margin_call_price].head()"
   ]
  },
  {
   "cell_type": "code",
   "execution_count": 10,
   "id": "3df1b041",
   "metadata": {},
   "outputs": [
    {
     "name": "stdout",
     "output_type": "stream",
     "text": [
      "I will get margin call within a week on 2021-01-21\n"
     ]
    }
   ],
   "source": [
    "first_call_day = df_after[df_after['Close'] > margin_call_price].head().index.to_list()[0]\n",
    "print('I will get margin call within a week on %s' % first_call_day)"
   ]
  },
  {
   "cell_type": "code",
   "execution_count": 11,
   "id": "f6ac7151",
   "metadata": {},
   "outputs": [
    {
     "data": {
      "text/html": [
       "<div>\n",
       "<style scoped>\n",
       "    .dataframe tbody tr th:only-of-type {\n",
       "        vertical-align: middle;\n",
       "    }\n",
       "\n",
       "    .dataframe tbody tr th {\n",
       "        vertical-align: top;\n",
       "    }\n",
       "\n",
       "    .dataframe thead th {\n",
       "        text-align: right;\n",
       "    }\n",
       "</style>\n",
       "<table border=\"1\" class=\"dataframe\">\n",
       "  <thead>\n",
       "    <tr style=\"text-align: right;\">\n",
       "      <th></th>\n",
       "      <th>Open</th>\n",
       "      <th>High</th>\n",
       "      <th>Low</th>\n",
       "      <th>Close</th>\n",
       "      <th>Adj Close</th>\n",
       "      <th>Volume</th>\n",
       "    </tr>\n",
       "    <tr>\n",
       "      <th>Date</th>\n",
       "      <th></th>\n",
       "      <th></th>\n",
       "      <th></th>\n",
       "      <th></th>\n",
       "      <th></th>\n",
       "      <th></th>\n",
       "    </tr>\n",
       "  </thead>\n",
       "  <tbody>\n",
       "    <tr>\n",
       "      <th>2021-01-19</th>\n",
       "      <td>41.549999</td>\n",
       "      <td>45.520000</td>\n",
       "      <td>36.639999</td>\n",
       "      <td>39.360001</td>\n",
       "      <td>39.360001</td>\n",
       "      <td>74721900</td>\n",
       "    </tr>\n",
       "    <tr>\n",
       "      <th>2021-01-21</th>\n",
       "      <td>39.230000</td>\n",
       "      <td>44.750000</td>\n",
       "      <td>37.000000</td>\n",
       "      <td>43.029999</td>\n",
       "      <td>43.029999</td>\n",
       "      <td>56216900</td>\n",
       "    </tr>\n",
       "    <tr>\n",
       "      <th>2021-01-22</th>\n",
       "      <td>42.590000</td>\n",
       "      <td>76.760002</td>\n",
       "      <td>42.320000</td>\n",
       "      <td>65.010002</td>\n",
       "      <td>65.010002</td>\n",
       "      <td>197157900</td>\n",
       "    </tr>\n",
       "    <tr>\n",
       "      <th>2021-01-25</th>\n",
       "      <td>96.730003</td>\n",
       "      <td>159.179993</td>\n",
       "      <td>61.130001</td>\n",
       "      <td>76.790001</td>\n",
       "      <td>76.790001</td>\n",
       "      <td>177874000</td>\n",
       "    </tr>\n",
       "    <tr>\n",
       "      <th>2021-01-26</th>\n",
       "      <td>88.559998</td>\n",
       "      <td>150.000000</td>\n",
       "      <td>80.199997</td>\n",
       "      <td>147.979996</td>\n",
       "      <td>147.979996</td>\n",
       "      <td>178588000</td>\n",
       "    </tr>\n",
       "  </tbody>\n",
       "</table>\n",
       "</div>"
      ],
      "text/plain": [
       "                 Open        High        Low       Close   Adj Close  \\\n",
       "Date                                                                   \n",
       "2021-01-19  41.549999   45.520000  36.639999   39.360001   39.360001   \n",
       "2021-01-21  39.230000   44.750000  37.000000   43.029999   43.029999   \n",
       "2021-01-22  42.590000   76.760002  42.320000   65.010002   65.010002   \n",
       "2021-01-25  96.730003  159.179993  61.130001   76.790001   76.790001   \n",
       "2021-01-26  88.559998  150.000000  80.199997  147.979996  147.979996   \n",
       "\n",
       "               Volume  \n",
       "Date                   \n",
       "2021-01-19   74721900  \n",
       "2021-01-21   56216900  \n",
       "2021-01-22  197157900  \n",
       "2021-01-25  177874000  \n",
       "2021-01-26  178588000  "
      ]
     },
     "execution_count": 11,
     "metadata": {},
     "output_type": "execute_result"
    }
   ],
   "source": [
    "# 2.d\n",
    "intra_call = df_after[df_after['High'] > margin_call_price].head()\n",
    "intra_call"
   ]
  },
  {
   "cell_type": "code",
   "execution_count": 12,
   "id": "d638dacb",
   "metadata": {},
   "outputs": [
    {
     "name": "stdout",
     "output_type": "stream",
     "text": [
      "I will get a intra-day margin call at 2021-01-19\n"
     ]
    }
   ],
   "source": [
    "print('I will get a intra-day margin call at %s' % intra_call.index.to_list()[0])"
   ]
  },
  {
   "cell_type": "code",
   "execution_count": 13,
   "id": "d76ba20a",
   "metadata": {},
   "outputs": [
    {
     "name": "stdout",
     "output_type": "stream",
     "text": [
      "I will put total cash of 23818.000000\n"
     ]
    }
   ],
   "source": [
    "# 2.e\n",
    "after_input = df_after.loc['2021-01-19', 'High'] * (1 + 0.4) * 1000 - pos * 3\n",
    "total_input = after_input + pos\n",
    "print(\"I will put total cash of %f\" % total_input)"
   ]
  },
  {
   "cell_type": "code",
   "execution_count": 14,
   "id": "dd142b87",
   "metadata": {},
   "outputs": [
    {
     "name": "stdout",
     "output_type": "stream",
     "text": [
      "I will lose all the money at the price: 63.728000\n"
     ]
    }
   ],
   "source": [
    "lose_price = (total_input + pos *2) / 1000\n",
    "print('I will lose all the money at the price: %f' % lose_price)"
   ]
  },
  {
   "cell_type": "code",
   "execution_count": 15,
   "id": "2da9f2fd",
   "metadata": {},
   "outputs": [],
   "source": [
    "# Part 2\n",
    "future_df = pd.read_csv(\"./CL_curve_hist.csv\")\n",
    "spot_df = pd.read_csv(\"./Cushing_OK_WTI_Spot_Price_FOB.csv\", skiprows = 4)\n",
    "map_df = pd.read_csv(\"./FuturesCodeMap.csv\")"
   ]
  },
  {
   "cell_type": "code",
   "execution_count": 16,
   "id": "57107524",
   "metadata": {},
   "outputs": [],
   "source": [
    "# Part 2.1\n",
    "future_df = future_df.set_index('Date')"
   ]
  },
  {
   "cell_type": "code",
   "execution_count": 17,
   "id": "5783ea76",
   "metadata": {},
   "outputs": [],
   "source": [
    "map_df = map_df.set_index('MonthCode')\n",
    "map_dic = map_df.to_dict()\n",
    "map_dic = map_dic['MonthNum']\n",
    "date_dic = {column : '20' + column[3:5] + '-' + str(map_dic[column[2]]) for column in future_df}"
   ]
  },
  {
   "cell_type": "code",
   "execution_count": 18,
   "id": "3c88a87a",
   "metadata": {},
   "outputs": [],
   "source": [
    "future_df = future_df.rename(columns=date_dic)\n",
    "future_df.columns = pd.to_datetime(future_df.columns).strftime('%Y-%m')\n",
    "future_df = future_df.sort_index(axis=1)"
   ]
  },
  {
   "cell_type": "code",
   "execution_count": 19,
   "id": "b50d2d6f",
   "metadata": {},
   "outputs": [],
   "source": [
    "import matplotlib.pyplot as plt"
   ]
  },
  {
   "cell_type": "code",
   "execution_count": 20,
   "id": "4798906c",
   "metadata": {},
   "outputs": [
    {
     "name": "stdout",
     "output_type": "stream",
     "text": [
      "It is backwardation\n"
     ]
    },
    {
     "data": {
      "image/png": "[encoded data removed]",
      "text/plain": [
       "<Figure size 640x480 with 1 Axes>"
      ]
     },
     "metadata": {},
     "output_type": "display_data"
    }
   ],
   "source": [
    "future_df.tail(1).T.plot()\n",
    "plt.xticks(rotation = 90)\n",
    "print('It is backwardation')"
   ]
  },
  {
   "cell_type": "code",
   "execution_count": 21,
   "id": "96e1b267",
   "metadata": {},
   "outputs": [],
   "source": [
    "# Part 2.2\n",
    "f_oct_22 = future_df['2022-10']\n",
    "f_oct_22.index = pd.to_datetime(f_oct_22.index)"
   ]
  },
  {
   "cell_type": "code",
   "execution_count": 22,
   "id": "fae055d6",
   "metadata": {},
   "outputs": [],
   "source": [
    "spot_df.Day = pd.to_datetime(spot_df.Day)\n",
    "spot_df.rename(columns={'Day': 'Date'}, inplace=True)\n",
    "spot_df = spot_df.set_index('Date')\n",
    "spot_df = spot_df.join(f_oct_22)\n",
    "spot_df = spot_df.dropna()\n",
    "spot_df.rename(columns={spot_df.columns[0]: 'spot price', \n",
    "                        spot_df.columns[1]: 'future price'}, inplace=True)"
   ]
  },
  {
   "cell_type": "code",
   "execution_count": 23,
   "id": "d19d1aae",
   "metadata": {},
   "outputs": [
    {
     "data": {
      "text/plain": [
       "<AxesSubplot:xlabel='Date'>"
      ]
     },
     "execution_count": 23,
     "metadata": {},
     "output_type": "execute_result"
    },
    {
     "data": {
      "image/png": "[encoded data removed]",
      "text/plain": [
       "<Figure size 640x480 with 1 Axes>"
      ]
     },
     "metadata": {},
     "output_type": "display_data"
    }
   ],
   "source": [
    "spot_df.plot()"
   ]
  }
 ],
 "metadata": {
  "kernelspec": {
   "display_name": "Python 3 (ipykernel)",
   "language": "python",
   "name": "python3"
  },
  "language_info": {
   "codemirror_mode": {
    "name": "ipython",
    "version": 3
   },
   "file_extension": ".py",
   "mimetype": "text/x-python",
   "name": "python",
   "nbconvert_exporter": "python",
   "pygments_lexer": "ipython3",
   "version": "3.10.4"
  }
 },
 "nbformat": 4,
 "nbformat_minor": 5
}
